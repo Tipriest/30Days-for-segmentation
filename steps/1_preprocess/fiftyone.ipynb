{
 "cells": [
  {
   "cell_type": "markdown",
   "metadata": {},
   "source": [
    "### Image Directory"
   ]
  },
  {
   "cell_type": "code",
   "execution_count": null,
   "metadata": {},
   "outputs": [],
   "source": [
    "import fiftyone as fo\n",
    "import os\n",
    "\n",
    "base_dir = os.getcwd()\n",
    "frames_dir = os.path.join(base_dir, \"frames\")\n",
    "key_frames_dir = os.path.join(base_dir, \"key_frames\")\n",
    "\n",
    "# Create the dataset\n",
    "frames_dataset = fo.Dataset.from_dir(\n",
    "    dataset_dir=frames_dir,\n",
    "    dataset_type=fo.types.ImageDirectory,\n",
    "    name=\"frames_dataset\",\n",
    ")\n",
    "\n",
    "key_frames_dataset = fo.Dataset.from_dir(\n",
    "    dataset_dir=key_frames_dir,\n",
    "    dataset_type=fo.types.ImageDirectory,\n",
    "    name=\"key_frames_dataset\",\n",
    ")\n",
    "\n",
    "# View summary info about the dataset\n",
    "# print(dataset)\n",
    "\n",
    "# Print the first few samples in the dataset\n",
    "# print(dataset.head())\n",
    "session = fo.launch_app(frames_dataset)\n",
    "session = fo.launch_app(key_frames_dataset)"
   ]
  },
  {
   "cell_type": "code",
   "execution_count": null,
   "metadata": {},
   "outputs": [],
   "source": [
    "port = session._client.port\n",
    "print(f\"Open browser at: http://localhost:{port}\")"
   ]
  },
  {
   "cell_type": "code",
   "execution_count": null,
   "metadata": {},
   "outputs": [],
   "source": [
    "fo.delete_dataset(\"frames_dataset\")\n",
    "fo.delete_dataset(\"key_frames_dataset\")"
   ]
  },
  {
   "cell_type": "markdown",
   "metadata": {},
   "source": [
    "### For Custom Annotated Format"
   ]
  },
  {
   "cell_type": "code",
   "execution_count": null,
   "metadata": {},
   "outputs": [],
   "source": [
    "import glob\n",
    "import fiftyone as fo\n",
    "import os\n",
    "\n",
    "base_dir = os.getcwd()\n",
    "key_frames_dir = os.path.join(base_dir, \"key_frames\")\n",
    "annotate_gt_file_dir = os.path.join(\n",
    "    base_dir, \"../2_openword_annotation/labels_groundtruth.csv\"\n",
    ")\n",
    "annotate_pred_file_dir = os.path.join(\n",
    "    base_dir, \"../2_openword_annotation/labels.csv\"\n",
    ")\n",
    "\n",
    "samples = []\n",
    "for filepath in glob.glob(key_frames_dir):\n",
    "    sample = fo.Sample(filepath=filepath)\n",
    "\n",
    "\n",
    "# with open(annotate_gt_file_dir, \"r\", encoding=\"utf-8\") as f:\n",
    "#     for line in f:\n",
    "#         line = line.strip()\n",
    "#         if not line: continue\n",
    "#         # 分割标签和路径部分\n",
    "#         parts = line.split(';', 1)\n",
    "#         if len(parts) < 2: continue\n",
    "#         # 提取路径段\n",
    "#         path_segment = parts[-1].replace(\"\\\\\", \"/\")  # 取方括号之后的部分\n",
    "#         full_path = os.path.join(images_patt, path_segment)\n",
    "#         sample = fo.Sample(filepath=full_path)\n",
    "#         sample[\"ground_truth\"] = parts[0]\n",
    "\n",
    "#         samples.append(sample)\n",
    "\n",
    "\n",
    "# Create dataset\n",
    "dataset = fo.Dataset(\"my-classification-dataset\")\n",
    "dataset.add_samples(samples)\n",
    "dataset = fo.load_dataset(\"my-classification-dataset\")\n",
    "session = fo.launch_app(dataset)"
   ]
  },
  {
   "cell_type": "code",
   "execution_count": null,
   "metadata": {},
   "outputs": [],
   "source": [
    "import fiftyone as fo \n",
    "fo.delete_dataset(\"my-classification-dataset\")"
   ]
  }
 ],
 "metadata": {
  "kernelspec": {
   "display_name": "30daysseg",
   "language": "python",
   "name": "python3"
  },
  "language_info": {
   "codemirror_mode": {
    "name": "ipython",
    "version": 3
   },
   "file_extension": ".py",
   "mimetype": "text/x-python",
   "name": "python",
   "nbconvert_exporter": "python",
   "pygments_lexer": "ipython3",
   "version": "3.9.20"
  }
 },
 "nbformat": 4,
 "nbformat_minor": 2
}
